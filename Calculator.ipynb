{
 "cells": [
  {
   "cell_type": "code",
   "execution_count": 1,
   "id": "416bb1f3",
   "metadata": {},
   "outputs": [
    {
     "name": "stdout",
     "output_type": "stream",
     "text": [
      "Simple Calculator\n",
      "Select operation:\n",
      "1. Add\n",
      "2. Subtract\n",
      "3. Multiply\n",
      "4. Divide\n",
      "Enter choice (1/2/3/4): 3\n",
      "Enter first number: 2\n",
      "Enter second number: 3\n",
      "2.0 * 3.0 = 6.0\n"
     ]
    }
   ],
   "source": [
    "def add(x, y):\n",
    "    return x + y\n",
    "\n",
    "def subtract(x, y):\n",
    "    return x - y\n",
    "\n",
    "def multiply(x, y):\n",
    "    return x * y\n",
    "\n",
    "def divide(x, y):\n",
    "    if y == 0:\n",
    "        return \"Error! Division by zero.\"\n",
    "    return x / y\n",
    "\n",
    "def calculator():\n",
    "    print(\"Simple Calculator\")\n",
    "    print(\"Select operation:\")\n",
    "    print(\"1. Add\")\n",
    "    print(\"2. Subtract\")\n",
    "    print(\"3. Multiply\")\n",
    "    print(\"4. Divide\")\n",
    "\n",
    "    choice = input(\"Enter choice (1/2/3/4): \")\n",
    "\n",
    "    if choice in ['1', '2', '3', '4']:\n",
    "        num1 = float(input(\"Enter first number: \"))\n",
    "        num2 = float(input(\"Enter second number: \"))\n",
    "\n",
    "        if choice == '1':\n",
    "            result = add(num1, num2)\n",
    "            print(f\"{num1} + {num2} = {result}\")\n",
    "\n",
    "        elif choice == '2':\n",
    "            result = subtract(num1, num2)\n",
    "            print(f\"{num1} - {num2} = {result}\")\n",
    "\n",
    "        elif choice == '3':\n",
    "            result = multiply(num1, num2)\n",
    "            print(f\"{num1} * {num2} = {result}\")\n",
    "\n",
    "        elif choice == '4':\n",
    "            result = divide(num1, num2)\n",
    "            if result == \"Error! Division by zero.\":\n",
    "                print(result)\n",
    "            else:\n",
    "                print(f\"{num1} / {num2} = {result}\")\n",
    "\n",
    "    else:\n",
    "        print(\"Invalid input. Please enter a number between 1 and 4.\")\n",
    "\n",
    "if __name__ == \"__main__\":\n",
    "    calculator()\n"
   ]
  },
  {
   "cell_type": "code",
   "execution_count": null,
   "id": "de216c55",
   "metadata": {},
   "outputs": [],
   "source": []
  }
 ],
 "metadata": {
  "kernelspec": {
   "display_name": "Python 3 (ipykernel)",
   "language": "python",
   "name": "python3"
  },
  "language_info": {
   "codemirror_mode": {
    "name": "ipython",
    "version": 3
   },
   "file_extension": ".py",
   "mimetype": "text/x-python",
   "name": "python",
   "nbconvert_exporter": "python",
   "pygments_lexer": "ipython3",
   "version": "3.11.5"
  }
 },
 "nbformat": 4,
 "nbformat_minor": 5
}
